{
 "cells": [
  {
   "cell_type": "code",
   "execution_count": 1,
   "id": "3788d4c9",
   "metadata": {},
   "outputs": [
    {
     "name": "stdout",
     "output_type": "stream",
     "text": [
      "dummy_project_credentials.json\n"
     ]
    }
   ],
   "source": [
    "from dotenv import load_dotenv\n",
    "import os\n",
    "\n",
    "# Load environment variables\n",
    "load_dotenv()\n",
    "\n",
    "# Initialize Vertex AI with your project ID\n",
    "project_id = os.getenv(\"GOOGLE_APPLICATION_CREDENTIALS\")\n",
    "print(project_id)"
   ]
  },
  {
   "cell_type": "code",
   "execution_count": null,
   "id": "340b1a74",
   "metadata": {},
   "outputs": [
    {
     "name": "stderr",
     "output_type": "stream",
     "text": [
      "Key 'additionalProperties' is not supported in schema, ignoring\n",
      "Key 'additionalProperties' is not supported in schema, ignoring\n"
     ]
    },
    {
     "name": "stdout",
     "output_type": "stream",
     "text": [
      "Processing batch 1/1...\n"
     ]
    },
    {
     "name": "stderr",
     "output_type": "stream",
     "text": [
      "Key 'additionalProperties' is not supported in schema, ignoring\n",
      "Key 'additionalProperties' is not supported in schema, ignoring\n"
     ]
    },
    {
     "name": "stdout",
     "output_type": "stream",
     "text": [
      "positive_themes=['Anniversary celebration', 'Great location', 'Elegant decor', 'Family-friendly', 'Outstanding service', 'Charming boutique hotel', 'Cleanliness'] negative_themes=[] sentiment_distribution={} key_mentions={} critical_issues=[] strengths=['Staff attentiveness', 'Clean and modern rooms', 'Excellent amenities', 'Good value for money']\n"
     ]
    },
    {
     "ename": "",
     "evalue": "",
     "output_type": "error",
     "traceback": [
      "\u001b[1;31mThe Kernel crashed while executing code in the current cell or a previous cell. \n",
      "\u001b[1;31mPlease review the code in the cell(s) to identify a possible cause of the failure. \n",
      "\u001b[1;31mClick <a href='https://aka.ms/vscodeJupyterKernelCrash'>here</a> for more info. \n",
      "\u001b[1;31mView Jupyter <a href='command:jupyter.viewOutput'>log</a> for further details."
     ]
    }
   ],
   "source": [
    "from agent.summarize_review import ReviewBatch, BatchSummariesOutput\n",
    "from langchain_core.prompts import ChatPromptTemplate\n",
    "from helper.llm import get_default_llm\n",
    "\n",
    "batches = [ReviewBatch(reviews=['Absolutely fantastic stay! The staff went above and beyond to make our anniversary special. Room was spotless, bed was incredibly comfortable, and the view of the city skyline was breathtaking. The concierge helped us get reservations at an amazing restaurant. Will definitely be back!', 'Great location right in the heart of downtown. Walking distance to all major attractions. The front desk team was very helpful and friendly. Room was modern and clean with all necessary amenities. Continental breakfast had good variety. Highly recommend for business travelers.', 'Beautiful hotel with elegant decor throughout. The lobby is stunning with marble floors and crystal chandeliers. Our suite was spacious with a separate living area. The spa services were top-notch - had the most relaxing massage. Pool area is well-maintained. Excellent value for money.', 'Perfect family vacation spot! Kids loved the pool and the game room. Staff was patient and accommodating with our children. Room had enough space for family of four. The restaurant served kid-friendly meals. Location was safe and convenient for sightseeing. Thank you for a memorable stay!', 'Outstanding service from check-in to check-out. The valet parking was efficient, bellhops were courteous, and housekeeping maintained our room perfectly daily. The hotel restaurant serves delicious cuisine. Bar has an extensive wine selection. This place sets the standard for luxury hospitality.', 'Wonderful boutique hotel with character and charm. Each room is uniquely decorated with local art. Staff knows guests by name and remembers preferences. The rooftop terrace offers amazing sunset views. Complimentary wine hour in the evening was a nice touch. Felt like home away from home.', 'Impressed by the attention to detail and cleanliness standards. Everything from the lobby to our room was immaculate. The fitness center has modern equipment and is well-ventilated. Complimentary shuttle service to the airport was convenient. Great WiFi throughout the property. Exceeded expectations.'], batch_id=0, summary='')]\n",
    "\n",
    "batch_summaries = []\n",
    "llm = get_default_llm(temperature=0)\n",
    "llm = llm.with_structured_output(BatchSummariesOutput)\n",
    "\n",
    "for i, batch in enumerate(batches):\n",
    "    print(f\"Processing batch {i+1}/{len(batches)}...\")\n",
    "    \n",
    "    # Create numbered review list for the prompt\n",
    "    numbered_reviews = []\n",
    "    for j, review in enumerate(batch.reviews, 1):\n",
    "        numbered_reviews.append(f\"{j}. {review}\")\n",
    "    \n",
    "    reviews_text = \"\\n\".join(numbered_reviews)\n",
    "    length_reviews = len(batch.reviews)\n",
    "    \n",
    "    try:\n",
    "        prompt = ChatPromptTemplate.from_messages([\n",
    "            (\"system\", \"You are a helpful assistant that analyzes given hotel reviews and extract key insights. Keep all summaries concise (max 15 words each). Focus only on the most significant patterns. Return the result in JSON format.\"),\n",
    "            (\"human\", \"{reviews_text}\")\n",
    "        ])\n",
    "        chain = prompt | llm\n",
    "        result = await chain.ainvoke(\n",
    "            {\"reviews_text\": reviews_text}\n",
    "        )\n",
    "        print(result)\n",
    "        batch_summaries.append(result)\n",
    "    except Exception as e:\n",
    "        raise e\n",
    "\n",
    "\n"
   ]
  }
 ],
 "metadata": {
  "kernelspec": {
   "display_name": ".venv",
   "language": "python",
   "name": "python3"
  },
  "language_info": {
   "codemirror_mode": {
    "name": "ipython",
    "version": 3
   },
   "file_extension": ".py",
   "mimetype": "text/x-python",
   "name": "python",
   "nbconvert_exporter": "python",
   "pygments_lexer": "ipython3",
   "version": "3.12.8"
  }
 },
 "nbformat": 4,
 "nbformat_minor": 5
}
